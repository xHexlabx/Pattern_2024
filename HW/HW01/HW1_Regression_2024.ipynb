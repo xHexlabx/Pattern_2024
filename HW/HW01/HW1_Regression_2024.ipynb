{
 "cells": [
  {
   "cell_type": "markdown",
   "id": "0a6e0129",
   "metadata": {},
   "source": [
    "# HW1 Regression 2024"
   ]
  },
  {
   "cell_type": "markdown",
   "id": "dd1895cd",
   "metadata": {},
   "source": [
    "## Metrics\n",
    "\n",
    "In a population where the amount of cats is equal to the amount of dogs. Considering the following classification results from a classifier.\n",
    "\n",
    "| Model A    | Predicted dog | Predicted cat |\n",
    "|------------|---------------|---------------|\n",
    "| Actual dog | 30            | 20            |\n",
    "| Actual cat | 10            | 40            |"
   ]
  },
  {
   "cell_type": "markdown",
   "id": "277c1a8b",
   "metadata": {},
   "source": [
    "### T1. \n",
    "What is the accuracy of Model A?"
   ]
  },
  {
   "cell_type": "code",
   "execution_count": 7,
   "id": "bb291a50",
   "metadata": {},
   "outputs": [],
   "source": [
    "def accuracy(TP , FN , FP , TN) :\n",
    "    \n",
    "    return (TP + TN) / (TP + FN + FP + TN)"
   ]
  },
  {
   "cell_type": "code",
   "execution_count": 2,
   "id": "9eefb683",
   "metadata": {},
   "outputs": [],
   "source": [
    "def precision(TP , FP):\n",
    "    \n",
    "    return TP / (TP + FP)"
   ]
  },
  {
   "cell_type": "code",
   "execution_count": 3,
   "id": "f0e29f83",
   "metadata": {},
   "outputs": [],
   "source": [
    "def recall(TP , FN):\n",
    "    \n",
    "    return TP / (TP + FN)"
   ]
  },
  {
   "cell_type": "code",
   "execution_count": 12,
   "id": "b389a8b5",
   "metadata": {},
   "outputs": [],
   "source": [
    "def F1(TP , FN , FP):\n",
    "\n",
    "    return (2 * TP) / (2 * TP + FP + FN)"
   ]
  },
  {
   "cell_type": "code",
   "execution_count": 5,
   "id": "de4a286b",
   "metadata": {},
   "outputs": [],
   "source": [
    "#Positive Class as Dog and Negative as Cat\n",
    "\n",
    "TP = 30\n",
    "FN = 20\n",
    "\n",
    "FP = 10\n",
    "TN = 40"
   ]
  },
  {
   "cell_type": "code",
   "execution_count": 11,
   "id": "1fa0ad33",
   "metadata": {},
   "outputs": [
    {
     "name": "stdout",
     "output_type": "stream",
     "text": [
      "Accuracy = 0.7 %\n"
     ]
    }
   ],
   "source": [
    "print(\"Accuracy =\" , accuracy(TP , FN , FP , TN) , \"%\")"
   ]
  },
  {
   "cell_type": "markdown",
   "id": "9c245f55",
   "metadata": {},
   "source": [
    "### T2. \n",
    "Consider class cat as 'class 1' (positive) and dogs as 'class 0' (negative),calculate the precision, recall, and F1"
   ]
  },
  {
   "cell_type": "code",
   "execution_count": 10,
   "id": "5eaf048c",
   "metadata": {},
   "outputs": [],
   "source": [
    "#Positive Class as Cat and Negetive as Dog\n",
    "\n",
    "TP = 40\n",
    "FN = 10\n",
    "\n",
    "FP = 20\n",
    "TN = 30"
   ]
  },
  {
   "cell_type": "code",
   "execution_count": 13,
   "id": "e3e10270",
   "metadata": {},
   "outputs": [
    {
     "name": "stdout",
     "output_type": "stream",
     "text": [
      "Precision = 0.6666666666666666\n",
      "Recall = 0.8\n",
      "F1 = 0.7272727272727273\n"
     ]
    }
   ],
   "source": [
    "print(f\"Precision = {precision(TP , FP)}\\nRecall = {recall(TP , FN)}\\nF1 = {F1(TP , FN , FP)}\")"
   ]
  },
  {
   "cell_type": "markdown",
   "id": "ad738f58",
   "metadata": {},
   "source": [
    "### T3. \n",
    "Consider class cat as ‘class 0’ and class dog as ‘class 1’, calculate the precision, recall, and F1."
   ]
  },
  {
   "cell_type": "code",
   "execution_count": 14,
   "id": "ad2ef4fa",
   "metadata": {},
   "outputs": [],
   "source": [
    "TP = 30\n",
    "FN = 20\n",
    "FP = 10\n",
    "TN = 40"
   ]
  },
  {
   "cell_type": "code",
   "execution_count": 15,
   "id": "edb1b333",
   "metadata": {},
   "outputs": [
    {
     "name": "stdout",
     "output_type": "stream",
     "text": [
      "Precision = 0.75\n",
      "Recall = 0.6\n",
      "F1 = 0.6666666666666666\n"
     ]
    }
   ],
   "source": [
    "print(f\"Precision = {precision(TP , FP)}\\nRecall = {recall(TP , FN)}\\nF1 = {F1(TP , FN , FP)}\")"
   ]
  },
  {
   "cell_type": "markdown",
   "id": "7ba2e742",
   "metadata": {},
   "source": [
    "### T4. \n",
    "Now consider a lopsided population where there are 80% cats. What is the accuracy of Model A? Using dog as the positive class, what is the precision,recall, and F1? Explain how and why these numbers change (or does not change) from the previous questions. "
   ]
  },
  {
   "cell_type": "code",
   "execution_count": 16,
   "id": "3717b597",
   "metadata": {},
   "outputs": [],
   "source": [
    "TP = 12\n",
    "FN = 8\n",
    "\n",
    "FP = 16\n",
    "TN = 64"
   ]
  },
  {
   "cell_type": "code",
   "execution_count": 17,
   "id": "c7516443",
   "metadata": {},
   "outputs": [
    {
     "name": "stdout",
     "output_type": "stream",
     "text": [
      "Accuracy = 0.76 %\n"
     ]
    }
   ],
   "source": [
    "print(\"Accuracy =\" , accuracy(TP , FN , FP , TN) , \"%\")"
   ]
  },
  {
   "cell_type": "code",
   "execution_count": 18,
   "id": "ed025875",
   "metadata": {},
   "outputs": [
    {
     "name": "stdout",
     "output_type": "stream",
     "text": [
      "Precision = 0.42857142857142855\n",
      "Recall = 0.6\n",
      "F1 = 0.5\n"
     ]
    }
   ],
   "source": [
    "print(f\"Precision = {precision(TP , FP)}\\nRecall = {recall(TP , FN)}\\nF1 = {F1(TP , FN , FP)}\")"
   ]
  },
  {
   "cell_type": "markdown",
   "id": "21773218",
   "metadata": {},
   "source": [
    "The accuracy seem higher but got less precision , recall and F1"
   ]
  },
  {
   "cell_type": "markdown",
   "id": "cc371c2d",
   "metadata": {},
   "source": [
    "### OT1. \n",
    "Consider the equations for accuracy and F1\n",
    "\n",
    "$$Accuracy = \\frac{TP + TN}{TP + TN + FP + FN}$$\n",
    "\n",
    "$$F1 = \\frac{2TP}{2TP + FP + FN}$$\n",
    "\n",
    "When will accuracy be equal, greater, or less than F1?"
   ]
  },
  {
   "cell_type": "markdown",
   "id": "f413c960",
   "metadata": {},
   "source": [
    "```\n",
    "ACC = F1 if TP = TN\n",
    "ACC > F1 if TN > TP\n",
    "ACC < F1 if TN < TP\n",
    "```"
   ]
  },
  {
   "cell_type": "markdown",
   "id": "553cc5f9",
   "metadata": {},
   "source": [
    "## Hello Clustering"
   ]
  },
  {
   "cell_type": "markdown",
   "id": "0e5a1983",
   "metadata": {},
   "source": [
    "Recall from lecture that K-means has two main steps: the points assignment step, and the mean update step. After the initialization of the centroids, we assign each data point to a centroid. Then, each centroids are updated by re-estimating the means.\n",
    "\n",
    "Concretely, if we are given N data points, $x_1, x_2, ..., x_N$, and we would like to form K clusters. We do the following:\n",
    "1. **Initialization**: Pick K random data points as K centroid locations $c_1, c_2, ..., c_K$.\n",
    "2. **Assign**: For each data point k, find the closest centroid. Assign that data point to the centroid. The distance used is typically Euclidean distance.\n",
    "3. **Update**: For each centroid, calculate the mean from the data points assigned to it.\n",
    "4. **Repeat**: repeat step 2 and 3 until the centroids stop changing (convergence).\n",
    "\n",
    "Given the following data points in x-y coordinates (2 dimensional)\n",
    "\n",
    "| x   | y   |\n",
    "|-----|-----|\n",
    "| 1   | 2   |\n",
    "| 3   | 3   |\n",
    "| 2   | 2   |\n",
    "| 8   | 8   |\n",
    "| 6   | 6   |\n",
    "| 7   | 7   |\n",
    "| -3  | -3  |\n",
    "| -2  | -4  |\n",
    "| -7  | -7  |"
   ]
  },
  {
   "cell_type": "code",
   "execution_count": 22,
   "id": "62dd7126",
   "metadata": {},
   "outputs": [],
   "source": [
    "import typing_extensions\n",
    "import numpy as np\n",
    "import math"
   ]
  },
  {
   "cell_type": "code",
   "execution_count": 49,
   "id": "907ba46f",
   "metadata": {},
   "outputs": [],
   "source": [
    "# 1. Define the Point class\n",
    "class Point:\n",
    "    def __init__(self, x, y):\n",
    "        self.x = x\n",
    "        self.y = y\n",
    "\n",
    "    def __repr__(self):\n",
    "        return f\"Point({self.x}, {self.y})\""
   ]
  },
  {
   "cell_type": "code",
   "execution_count": 50,
   "id": "38a64a83",
   "metadata": {},
   "outputs": [],
   "source": [
    "def euclidian_distance(a , b) :\n",
    "    \n",
    "    return math.sqrt((a.x - b.x) ** 2 + (a.y - b.y) ** 2)"
   ]
  },
  {
   "cell_type": "code",
   "execution_count": 93,
   "id": "fe370d1e",
   "metadata": {},
   "outputs": [],
   "source": [
    "class K_mean:\n",
    "    def __init__(self, k: int, points_x: np.array, points_y: np.array):\n",
    "        self.k = k\n",
    "        self.points = [Point(points_x[i], points_y[i]) for i in range(len(points_x))]\n",
    "        self.centroids = []\n",
    "        self.centroid_of_points = np.zeros(len(self.points), dtype=int)\n",
    "\n",
    "    def initialization(self):\n",
    "        random_indices = np.random.choice(len(self.points), self.k, replace=False)\n",
    "        self.centroids = [self.points[i] for i in random_indices]\n",
    "        # print(\"Initial centroids:\", self.centroids)\n",
    "        return\n",
    "\n",
    "    def assign(self):\n",
    "        for j, point in enumerate(self.points):\n",
    "            min_dist = math.inf\n",
    "            closest_centroid_idx = -1\n",
    "            for i, centroid in enumerate(self.centroids):\n",
    "                dist = euclidian_distance(centroid, point)\n",
    "                if dist < min_dist:\n",
    "                    min_dist = dist\n",
    "                    closest_centroid_idx = i\n",
    "            self.centroid_of_points[j] = closest_centroid_idx\n",
    "        return\n",
    "\n",
    "    def update(self):\n",
    "        new_centroids = []\n",
    "        for i in range(self.k):\n",
    "            points_in_cluster = [self.points[idx] for idx, _ in enumerate(self.points) if self.centroid_of_points[idx] == i]\n",
    "\n",
    "            if len(points_in_cluster) > 0:\n",
    "                x = sum([p.x for p in points_in_cluster]) / len(points_in_cluster)\n",
    "                y = sum([p.y for p in points_in_cluster]) / len(points_in_cluster)\n",
    "                new_centroids.append(Point(x, y))\n",
    "            else:\n",
    "                new_centroids.append(self.centroids[i]) # Keep old centroid if empty\n",
    "        \n",
    "        self.centroids = new_centroids\n",
    "        return\n",
    "\n",
    "    def repeat(self, epoch: int):\n",
    "        # print(\"\\nStarting K-means iterations...\")\n",
    "        for i in range(epoch):\n",
    "            # print(f\"\\n--- Epoch {i+1} ---\")\n",
    "            self.assign()\n",
    "            self.update()\n",
    "            # print(\"Current centroids:\", self.centroids)\n",
    "        # print(\"\\nK-means finished.\")\n",
    "\n",
    "    # --- Cluster Evaluation Functions ---\n",
    "\n",
    "    def calculate_wcss(self) -> float:\n",
    "        \"\"\"\n",
    "        Calculates the Within-Cluster Sum of Squares (WCSS).\n",
    "        WCSS measures the sum of squared distances between each point and its assigned centroid.\n",
    "        Lower WCSS generally indicates better clustering (more compact clusters).\n",
    "        \"\"\"\n",
    "        wcss = 0.0\n",
    "        for i in range(self.k):\n",
    "            centroid = self.centroids[i]\n",
    "            points_in_cluster = [self.points[idx] for idx, _ in enumerate(self.points) if self.centroid_of_points[idx] == i]\n",
    "            for point in points_in_cluster:\n",
    "                wcss += euclidian_distance(point, centroid)**2\n",
    "        return wcss\n",
    "\n",
    "    def calculate_inertia(self) -> float:\n",
    "        \"\"\"\n",
    "        Calculates the Inertia (similar to WCSS).\n",
    "        It's the sum of squared distances of samples to their closest cluster center.\n",
    "        Essentially the same as WCSS, just a different name often used by scikit-learn.\n",
    "        Lower values are better.\n",
    "        \"\"\"\n",
    "        return self.calculate_wcss() # Inertia is synonymous with WCSS in K-means context\n",
    "\n",
    "    def calculate_silhouette_score(self) -> float:\n",
    "        \"\"\"\n",
    "        Calculates the Silhouette Score for the clustering.\n",
    "        The Silhouette Score measures how similar an object is to its own cluster (cohesion)\n",
    "        compared to other clusters (separation).\n",
    "        The score ranges from -1 to +1, where:\n",
    "        +1: The clusters are well separated.\n",
    "        0: The clusters are indifferent (points are on or very close to the decision boundary).\n",
    "        -1: Points are assigned to the wrong clusters.\n",
    "\n",
    "        Requires at least 2 clusters and more than k points for meaningful calculation.\n",
    "        \"\"\"\n",
    "        if self.k < 2:\n",
    "            return 0.0 # Silhouette score not applicable for single cluster\n",
    "        if len(self.points) <= self.k:\n",
    "            return 0.0 # Not enough points to form meaningful silhouette\n",
    "\n",
    "        silhouette_scores = []\n",
    "        for i, point_i in enumerate(self.points):\n",
    "            cluster_i_idx = self.centroid_of_points[i]\n",
    "            \n",
    "            # a(i): average distance from point_i to other points in the same cluster\n",
    "            points_in_same_cluster = [self.points[j] for j, cluster_idx in enumerate(self.centroid_of_points) if cluster_idx == cluster_i_idx and j != i]\n",
    "            \n",
    "            if not points_in_same_cluster: # If cluster has only one point\n",
    "                a_i = 0.0 # Or consider it undefined, or 0 based on definition\n",
    "            else:\n",
    "                a_i = sum(euclidian_distance(point_i, p) for p in points_in_same_cluster) / len(points_in_same_cluster)\n",
    "\n",
    "            # b(i): minimum average distance from point_i to points in a different cluster\n",
    "            b_i = math.inf\n",
    "            for other_cluster_idx in range(self.k):\n",
    "                if other_cluster_idx == cluster_i_idx:\n",
    "                    continue # Skip current cluster\n",
    "\n",
    "                points_in_other_cluster = [self.points[j] for j, cluster_idx in enumerate(self.centroid_of_points) if cluster_idx == other_cluster_idx]\n",
    "                \n",
    "                if points_in_other_cluster:\n",
    "                    avg_dist_to_other_cluster = sum(euclidian_distance(point_i, p) for p in points_in_other_cluster) / len(points_in_other_cluster)\n",
    "                    b_i = min(b_i, avg_dist_to_other_cluster)\n",
    "            \n",
    "            if b_i == math.inf: # If no other clusters exist (shouldn't happen with k >= 2)\n",
    "                silhouette_scores.append(0.0)\n",
    "                continue\n",
    "\n",
    "            # Calculate silhouette coefficient for point_i\n",
    "            if max(a_i, b_i) == 0: # Avoid division by zero if all distances are zero\n",
    "                s_i = 0.0\n",
    "            else:\n",
    "                s_i = (b_i - a_i) / max(a_i, b_i)\n",
    "            \n",
    "            silhouette_scores.append(s_i)\n",
    "        \n",
    "        if not silhouette_scores:\n",
    "            return 0.0\n",
    "        return sum(silhouette_scores) / len(silhouette_scores)\n",
    "\n",
    "    def calculate_davies_bouldin_index(self) -> float:\n",
    "        \"\"\"\n",
    "        Calculates the Davies-Bouldin Index (DBI).\n",
    "        DBI is a measure of the ratio of within-cluster scatter to between-cluster separation.\n",
    "        Lower values indicate better clustering (clusters are more compact and better separated).\n",
    "        A value of 0 indicates a perfect clustering.\n",
    "        \"\"\"\n",
    "        if self.k < 2:\n",
    "            return 0.0 # DBI not applicable for single cluster\n",
    "\n",
    "        # 1. Calculate scatter (S_i) for each cluster\n",
    "        # S_i = average distance of all points in cluster i to its centroid\n",
    "        scatter = np.zeros(self.k)\n",
    "        for i in range(self.k):\n",
    "            centroid = self.centroids[i]\n",
    "            points_in_cluster = [self.points[idx] for idx, _ in enumerate(self.points) if self.centroid_of_points[idx] == i]\n",
    "            \n",
    "            if points_in_cluster:\n",
    "                scatter[i] = sum(euclidian_distance(p, centroid) for p in points_in_cluster) / len(points_in_cluster)\n",
    "            else:\n",
    "                scatter[i] = 0.0 # Empty cluster has 0 scatter\n",
    "\n",
    "        # 2. Calculate M_ij (distance between centroids i and j)\n",
    "        # 3. Calculate R_ij for each pair of clusters\n",
    "        # R_ij = (S_i + S_j) / M_ij\n",
    "        \n",
    "        R_values = []\n",
    "        for i in range(self.k):\n",
    "            max_R_i = 0.0\n",
    "            for j in range(self.k):\n",
    "                if i == j:\n",
    "                    continue\n",
    "                \n",
    "                M_ij = euclidian_distance(self.centroids[i], self.centroids[j])\n",
    "                \n",
    "                if M_ij == 0: # Centroids are at the same location\n",
    "                    R_ij = math.inf\n",
    "                else:\n",
    "                    R_ij = (scatter[i] + scatter[j]) / M_ij\n",
    "                \n",
    "                max_R_i = max(max_R_i, R_ij)\n",
    "            R_values.append(max_R_i)\n",
    "        \n",
    "        if not R_values: # Should not happen if k >= 2\n",
    "            return 0.0\n",
    "        \n",
    "        # DBI is the average of max_R_i for each cluster\n",
    "        return sum(R_values) / self.k"
   ]
  },
  {
   "cell_type": "code",
   "execution_count": 94,
   "id": "92c347d4",
   "metadata": {},
   "outputs": [],
   "source": [
    "k = 4\n",
    "points_x = np.array([1, 3, 2, 8, 6, 7, -3, -2, -7])\n",
    "points_y = np.array([2, 3, 2, 8 ,6 ,7, -3, -4, -7])"
   ]
  },
  {
   "cell_type": "code",
   "execution_count": 95,
   "id": "33fe11ec",
   "metadata": {},
   "outputs": [],
   "source": [
    "k_mean = K_mean(k=k , points_x=points_x , points_y=points_y)"
   ]
  },
  {
   "cell_type": "code",
   "execution_count": 96,
   "id": "13c36e3a",
   "metadata": {},
   "outputs": [],
   "source": [
    "k_mean.initialization()\n",
    "k_mean.repeat(10)"
   ]
  },
  {
   "cell_type": "code",
   "execution_count": 97,
   "id": "8a98be5b",
   "metadata": {},
   "outputs": [],
   "source": [
    "import matplotlib.pyplot as plt"
   ]
  },
  {
   "cell_type": "code",
   "execution_count": 98,
   "id": "667c88b6",
   "metadata": {},
   "outputs": [
    {
     "data": {
      "image/png": "[encoded data removed]",
      "text/plain": [
       "<Figure size 640x480 with 1 Axes>"
      ]
     },
     "metadata": {},
     "output_type": "display_data"
    }
   ],
   "source": [
    "plt.scatter(points_x , points_y)\n",
    "plt.show()"
   ]
  },
  {
   "cell_type": "code",
   "execution_count": 99,
   "id": "bf559d29",
   "metadata": {},
   "outputs": [
    {
     "data": {
      "image/png": "[encoded data removed]",
      "text/plain": [
       "<Figure size 640x480 with 1 Axes>"
      ]
     },
     "metadata": {},
     "output_type": "display_data"
    }
   ],
   "source": [
    "plt.scatter(points_x , points_y)\n",
    "plt.scatter([p.x for p in k_mean.centroids ] , [p.y for p in k_mean.centroids ])\n",
    "plt.show()"
   ]
  },
  {
   "cell_type": "markdown",
   "id": "c550045c",
   "metadata": {},
   "source": [
    "### T5. \n",
    "If the starting points are (3,3), (2,2), and (-3,-3). Describe each\n",
    "assign and update step. What are the points assigned? What are the updated\n",
    "centroids? You may do this calculation by hand or write a program to do it."
   ]
  },
  {
   "cell_type": "code",
   "execution_count": 112,
   "id": "527f5849",
   "metadata": {},
   "outputs": [],
   "source": [
    "k_mean = K_mean(k=3 , points_x=points_x , points_y=points_y)\n",
    "k_mean.centroids = [Point(3, 3), Point(2, 2), Point(-3, -3)]"
   ]
  },
  {
   "cell_type": "code",
   "execution_count": 113,
   "id": "18981f6e",
   "metadata": {},
   "outputs": [],
   "source": [
    "k_mean.repeat(3)"
   ]
  },
  {
   "cell_type": "code",
   "execution_count": 114,
   "id": "60ce8d98",
   "metadata": {},
   "outputs": [
    {
     "data": {
      "image/png": "[encoded data removed]",
      "text/plain": [
       "<Figure size 640x480 with 1 Axes>"
      ]
     },
     "metadata": {},
     "output_type": "display_data"
    }
   ],
   "source": [
    "plt.scatter(points_x , points_y)\n",
    "plt.scatter([p.x for p in k_mean.centroids ] , [p.y for p in k_mean.centroids ])\n",
    "plt.show()"
   ]
  },
  {
   "cell_type": "code",
   "execution_count": 115,
   "id": "bbce475b",
   "metadata": {},
   "outputs": [
    {
     "name": "stdout",
     "output_type": "stream",
     "text": [
      "WCSS = 29.333333333333336\n",
      "Inertia = 29.333333333333336\n",
      "Silhouette = 0.6708113719634965\n",
      "Davies Bouldin Index = 0.3396944661313798\n"
     ]
    }
   ],
   "source": [
    "print(f\"WCSS = {k_mean.calculate_wcss()}\\nInertia = {k_mean.calculate_inertia()}\\nSilhouette = {k_mean.calculate_silhouette_score()}\\nDavies Bouldin Index = {k_mean.calculate_davies_bouldin_index()}\")"
   ]
  },
  {
   "cell_type": "markdown",
   "id": "48e04bb4",
   "metadata": {},
   "source": [
    "### T6. \n",
    "If the starting points are (-3,-3), (2,2), and (-7,-7), what happens?"
   ]
  },
  {
   "cell_type": "code",
   "execution_count": 116,
   "id": "eddf8137",
   "metadata": {},
   "outputs": [],
   "source": [
    "k_mean = K_mean(k=3 , points_x=points_x , points_y=points_y)\n",
    "k_mean.centroids = [Point(-3, -3), Point(2, 2), Point(-7, -7)]"
   ]
  },
  {
   "cell_type": "code",
   "execution_count": 117,
   "id": "f9663d27",
   "metadata": {},
   "outputs": [],
   "source": [
    "k_mean.repeat(3)"
   ]
  },
  {
   "cell_type": "code",
   "execution_count": 118,
   "id": "513f1bc0",
   "metadata": {},
   "outputs": [
    {
     "data": {
      "image/png": "[encoded data removed]",
      "text/plain": [
       "<Figure size 640x480 with 1 Axes>"
      ]
     },
     "metadata": {},
     "output_type": "display_data"
    }
   ],
   "source": [
    "plt.scatter(points_x , points_y)\n",
    "plt.scatter([p.x for p in k_mean.centroids ] , [p.y for p in k_mean.centroids ])\n",
    "plt.show()"
   ]
  },
  {
   "cell_type": "code",
   "execution_count": 119,
   "id": "1771a819",
   "metadata": {},
   "outputs": [
    {
     "name": "stdout",
     "output_type": "stream",
     "text": [
      "WCSS = 77.83333333333333\n",
      "Inertia = 77.83333333333333\n",
      "Silhouette = 0.6139577219913521\n",
      "Davies Bouldin Index = 0.32590510855521587\n"
     ]
    }
   ],
   "source": [
    "print(f\"WCSS = {k_mean.calculate_wcss()}\\nInertia = {k_mean.calculate_inertia()}\\nSilhouette = {k_mean.calculate_silhouette_score()}\\nDavies Bouldin Index = {k_mean.calculate_davies_bouldin_index()}\")"
   ]
  },
  {
   "cell_type": "markdown",
   "id": "d59bc156",
   "metadata": {},
   "source": [
    "one of these groups seem too large and one of them contain only one point"
   ]
  },
  {
   "cell_type": "markdown",
   "id": "65da4658",
   "metadata": {},
   "source": [
    "### T7.\n",
    "Between the two starting set of points in the previous two questions,\n",
    "which one do you think is better? How would you measure the ‘goodness’ quality\n",
    "of a set of starting points?\n",
    "In general, it is important to try different sets of starting points when doing\n",
    "k-means"
   ]
  },
  {
   "cell_type": "markdown",
   "id": "1bbbc4e0",
   "metadata": {},
   "source": [
    "I think the first one is better measured by WCSS , Inertia , Silhouette , Davies Bouldin index"
   ]
  },
  {
   "cell_type": "markdown",
   "id": "d9bca4d8",
   "metadata": {},
   "source": [
    "### OT2. \n",
    "What would be the best K for this question? Describe your reasoning."
   ]
  },
  {
   "cell_type": "code",
   "execution_count": 127,
   "id": "f647cd12",
   "metadata": {},
   "outputs": [
    {
     "name": "stdout",
     "output_type": "stream",
     "text": [
      "k = 3\n",
      "WCSS = 77.83333333333333\n",
      "Inertia = 77.83333333333333\n",
      "Silhouette = 0.6139577219913521\n",
      "Davies Bouldin Index = 0.32590510855521587\n",
      "k = 4\n",
      "WCSS = 27.166666666666664\n",
      "Inertia = 27.166666666666664\n",
      "Silhouette = 0.5873992854411949\n",
      "Davies Bouldin Index = 0.3052017885566939\n",
      "k = 5\n",
      "WCSS = 26.666666666666664\n",
      "Inertia = 26.666666666666664\n",
      "Silhouette = 0.7089793815272236\n",
      "Davies Bouldin Index = 0.27883778119904007\n",
      "k = 6\n",
      "WCSS = 3.0000000000000004\n",
      "Inertia = 3.0000000000000004\n",
      "Silhouette = 0.5646795137907266\n",
      "Davies Bouldin Index = 0.31103334739013805\n",
      "k = 7\n",
      "WCSS = 4.000000000000001\n",
      "Inertia = 4.000000000000001\n",
      "Silhouette = 0.8833333333333333\n",
      "Davies Bouldin Index = 0.1097146459556769\n",
      "k = 8\n",
      "WCSS = 1.0000000000000002\n",
      "Inertia = 1.0000000000000002\n",
      "Silhouette = 0.9452738194404076\n",
      "Davies Bouldin Index = 0.08623739930594364\n",
      "k = 9\n",
      "WCSS = 0.0\n",
      "Inertia = 0.0\n",
      "Silhouette = 0.0\n",
      "Davies Bouldin Index = 0.0\n"
     ]
    }
   ],
   "source": [
    "for k in range(3 , 10) :\n",
    "    print(f\"k = {k}\")\n",
    "    k_mean = K_mean(k=k , points_x=points_x , points_y=points_y)\n",
    "    k_mean.initialization()\n",
    "    k_mean.repeat(3)\n",
    "    print(f\"WCSS = {k_mean.calculate_wcss()}\\nInertia = {k_mean.calculate_inertia()}\\nSilhouette = {k_mean.calculate_silhouette_score()}\\nDavies Bouldin Index = {k_mean.calculate_davies_bouldin_index()}\")"
   ]
  },
  {
   "cell_type": "markdown",
   "id": "7b6c1e12",
   "metadata": {},
   "source": [
    "Maybe 5 ?"
   ]
  },
  {
   "cell_type": "markdown",
   "id": "5fd5bcb9",
   "metadata": {},
   "source": [
    "## My heart will go on"
   ]
  },
  {
   "cell_type": "markdown",
   "id": "35839dd8",
   "metadata": {},
   "source": [
    "In this part of the exercise we will work on the Titanic dataset provided by\n",
    "Kaggle. The Titanic dataset contains information of the passengers boarding\n",
    "the Titanic on its final voyage. We will work on predicting whether a given\n",
    "passenger will survive the trip.\n",
    "Let’s launch Jupyter and start coding!\n",
    "We start by importing the data using Pandas"
   ]
  },
  {
   "cell_type": "code",
   "execution_count": 128,
   "id": "cc45799c",
   "metadata": {},
   "outputs": [],
   "source": [
    "import pandas as pd"
   ]
  },
  {
   "cell_type": "code",
   "execution_count": 129,
   "id": "522298b9",
   "metadata": {},
   "outputs": [],
   "source": [
    "train_url = \"http://s3.amazonaws.com/assets.datacamp.com/course/Kaggle/train.csv\"\n",
    "train = pd.read_csv(train_url) #training set\n",
    "test_url = \"http://s3.amazonaws.com/assets.datacamp.com/course/Kaggle/test.csv\"\n",
    "test = pd.read_csv(test_url) #test set"
   ]
  },
  {
   "cell_type": "code",
   "execution_count": 130,
   "id": "0d5f81ed",
   "metadata": {},
   "outputs": [
    {
     "data": {
      "text/html": [
       "<div>\n",
       "<style scoped>\n",
       "    .dataframe tbody tr th:only-of-type {\n",
       "        vertical-align: middle;\n",
       "    }\n",
       "\n",
       "    .dataframe tbody tr th {\n",
       "        vertical-align: top;\n",
       "    }\n",
       "\n",
       "    .dataframe thead th {\n",
       "        text-align: right;\n",
       "    }\n",
       "</style>\n",
       "<table border=\"1\" class=\"dataframe\">\n",
       "  <thead>\n",
       "    <tr style=\"text-align: right;\">\n",
       "      <th></th>\n",
       "      <th>PassengerId</th>\n",
       "      <th>Survived</th>\n",
       "      <th>Pclass</th>\n",
       "      <th>Name</th>\n",
       "      <th>Sex</th>\n",
       "      <th>Age</th>\n",
       "      <th>SibSp</th>\n",
       "      <th>Parch</th>\n",
       "      <th>Ticket</th>\n",
       "      <th>Fare</th>\n",
       "      <th>Cabin</th>\n",
       "      <th>Embarked</th>\n",
       "    </tr>\n",
       "  </thead>\n",
       "  <tbody>\n",
       "    <tr>\n",
       "      <th>0</th>\n",
       "      <td>1</td>\n",
       "      <td>0</td>\n",
       "      <td>3</td>\n",
       "      <td>Braund, Mr. Owen Harris</td>\n",
       "      <td>male</td>\n",
       "      <td>22.0</td>\n",
       "      <td>1</td>\n",
       "      <td>0</td>\n",
       "      <td>A/5 21171</td>\n",
       "      <td>7.2500</td>\n",
       "      <td>NaN</td>\n",
       "      <td>S</td>\n",
       "    </tr>\n",
       "    <tr>\n",
       "      <th>1</th>\n",
       "      <td>2</td>\n",
       "      <td>1</td>\n",
       "      <td>1</td>\n",
       "      <td>Cumings, Mrs. John Bradley (Florence Briggs Th...</td>\n",
       "      <td>female</td>\n",
       "      <td>38.0</td>\n",
       "      <td>1</td>\n",
       "      <td>0</td>\n",
       "      <td>PC 17599</td>\n",
       "      <td>71.2833</td>\n",
       "      <td>C85</td>\n",
       "      <td>C</td>\n",
       "    </tr>\n",
       "    <tr>\n",
       "      <th>2</th>\n",
       "      <td>3</td>\n",
       "      <td>1</td>\n",
       "      <td>3</td>\n",
       "      <td>Heikkinen, Miss. Laina</td>\n",
       "      <td>female</td>\n",
       "      <td>26.0</td>\n",
       "      <td>0</td>\n",
       "      <td>0</td>\n",
       "      <td>STON/O2. 3101282</td>\n",
       "      <td>7.9250</td>\n",
       "      <td>NaN</td>\n",
       "      <td>S</td>\n",
       "    </tr>\n",
       "    <tr>\n",
       "      <th>3</th>\n",
       "      <td>4</td>\n",
       "      <td>1</td>\n",
       "      <td>1</td>\n",
       "      <td>Futrelle, Mrs. Jacques Heath (Lily May Peel)</td>\n",
       "      <td>female</td>\n",
       "      <td>35.0</td>\n",
       "      <td>1</td>\n",
       "      <td>0</td>\n",
       "      <td>113803</td>\n",
       "      <td>53.1000</td>\n",
       "      <td>C123</td>\n",
       "      <td>S</td>\n",
       "    </tr>\n",
       "    <tr>\n",
       "      <th>4</th>\n",
       "      <td>5</td>\n",
       "      <td>0</td>\n",
       "      <td>3</td>\n",
       "      <td>Allen, Mr. William Henry</td>\n",
       "      <td>male</td>\n",
       "      <td>35.0</td>\n",
       "      <td>0</td>\n",
       "      <td>0</td>\n",
       "      <td>373450</td>\n",
       "      <td>8.0500</td>\n",
       "      <td>NaN</td>\n",
       "      <td>S</td>\n",
       "    </tr>\n",
       "  </tbody>\n",
       "</table>\n",
       "</div>"
      ],
      "text/plain": [
       "   PassengerId  Survived  Pclass  \\\n",
       "0            1         0       3   \n",
       "1            2         1       1   \n",
       "2            3         1       3   \n",
       "3            4         1       1   \n",
       "4            5         0       3   \n",
       "\n",
       "                                                Name     Sex   Age  SibSp  \\\n",
       "0                            Braund, Mr. Owen Harris    male  22.0      1   \n",
       "1  Cumings, Mrs. John Bradley (Florence Briggs Th...  female  38.0      1   \n",
       "2                             Heikkinen, Miss. Laina  female  26.0      0   \n",
       "3       Futrelle, Mrs. Jacques Heath (Lily May Peel)  female  35.0      1   \n",
       "4                           Allen, Mr. William Henry    male  35.0      0   \n",
       "\n",
       "   Parch            Ticket     Fare Cabin Embarked  \n",
       "0      0         A/5 21171   7.2500   NaN        S  \n",
       "1      0          PC 17599  71.2833   C85        C  \n",
       "2      0  STON/O2. 3101282   7.9250   NaN        S  \n",
       "3      0            113803  53.1000  C123        S  \n",
       "4      0            373450   8.0500   NaN        S  "
      ]
     },
     "execution_count": 130,
     "metadata": {},
     "output_type": "execute_result"
    }
   ],
   "source": [
    "train.head()"
   ]
  },
  {
   "cell_type": "code",
   "execution_count": 131,
   "id": "21e5f436",
   "metadata": {},
   "outputs": [
    {
     "data": {
      "text/html": [
       "<div>\n",
       "<style scoped>\n",
       "    .dataframe tbody tr th:only-of-type {\n",
       "        vertical-align: middle;\n",
       "    }\n",
       "\n",
       "    .dataframe tbody tr th {\n",
       "        vertical-align: top;\n",
       "    }\n",
       "\n",
       "    .dataframe thead th {\n",
       "        text-align: right;\n",
       "    }\n",
       "</style>\n",
       "<table border=\"1\" class=\"dataframe\">\n",
       "  <thead>\n",
       "    <tr style=\"text-align: right;\">\n",
       "      <th></th>\n",
       "      <th>PassengerId</th>\n",
       "      <th>Survived</th>\n",
       "      <th>Pclass</th>\n",
       "      <th>Name</th>\n",
       "      <th>Sex</th>\n",
       "      <th>Age</th>\n",
       "      <th>SibSp</th>\n",
       "      <th>Parch</th>\n",
       "      <th>Ticket</th>\n",
       "      <th>Fare</th>\n",
       "      <th>Cabin</th>\n",
       "      <th>Embarked</th>\n",
       "    </tr>\n",
       "  </thead>\n",
       "  <tbody>\n",
       "    <tr>\n",
       "      <th>886</th>\n",
       "      <td>887</td>\n",
       "      <td>0</td>\n",
       "      <td>2</td>\n",
       "      <td>Montvila, Rev. Juozas</td>\n",
       "      <td>male</td>\n",
       "      <td>27.0</td>\n",
       "      <td>0</td>\n",
       "      <td>0</td>\n",
       "      <td>211536</td>\n",
       "      <td>13.00</td>\n",
       "      <td>NaN</td>\n",
       "      <td>S</td>\n",
       "    </tr>\n",
       "    <tr>\n",
       "      <th>887</th>\n",
       "      <td>888</td>\n",
       "      <td>1</td>\n",
       "      <td>1</td>\n",
       "      <td>Graham, Miss. Margaret Edith</td>\n",
       "      <td>female</td>\n",
       "      <td>19.0</td>\n",
       "      <td>0</td>\n",
       "      <td>0</td>\n",
       "      <td>112053</td>\n",
       "      <td>30.00</td>\n",
       "      <td>B42</td>\n",
       "      <td>S</td>\n",
       "    </tr>\n",
       "    <tr>\n",
       "      <th>888</th>\n",
       "      <td>889</td>\n",
       "      <td>0</td>\n",
       "      <td>3</td>\n",
       "      <td>Johnston, Miss. Catherine Helen \"Carrie\"</td>\n",
       "      <td>female</td>\n",
       "      <td>NaN</td>\n",
       "      <td>1</td>\n",
       "      <td>2</td>\n",
       "      <td>W./C. 6607</td>\n",
       "      <td>23.45</td>\n",
       "      <td>NaN</td>\n",
       "      <td>S</td>\n",
       "    </tr>\n",
       "    <tr>\n",
       "      <th>889</th>\n",
       "      <td>890</td>\n",
       "      <td>1</td>\n",
       "      <td>1</td>\n",
       "      <td>Behr, Mr. Karl Howell</td>\n",
       "      <td>male</td>\n",
       "      <td>26.0</td>\n",
       "      <td>0</td>\n",
       "      <td>0</td>\n",
       "      <td>111369</td>\n",
       "      <td>30.00</td>\n",
       "      <td>C148</td>\n",
       "      <td>C</td>\n",
       "    </tr>\n",
       "    <tr>\n",
       "      <th>890</th>\n",
       "      <td>891</td>\n",
       "      <td>0</td>\n",
       "      <td>3</td>\n",
       "      <td>Dooley, Mr. Patrick</td>\n",
       "      <td>male</td>\n",
       "      <td>32.0</td>\n",
       "      <td>0</td>\n",
       "      <td>0</td>\n",
       "      <td>370376</td>\n",
       "      <td>7.75</td>\n",
       "      <td>NaN</td>\n",
       "      <td>Q</td>\n",
       "    </tr>\n",
       "  </tbody>\n",
       "</table>\n",
       "</div>"
      ],
      "text/plain": [
       "     PassengerId  Survived  Pclass                                      Name  \\\n",
       "886          887         0       2                     Montvila, Rev. Juozas   \n",
       "887          888         1       1              Graham, Miss. Margaret Edith   \n",
       "888          889         0       3  Johnston, Miss. Catherine Helen \"Carrie\"   \n",
       "889          890         1       1                     Behr, Mr. Karl Howell   \n",
       "890          891         0       3                       Dooley, Mr. Patrick   \n",
       "\n",
       "        Sex   Age  SibSp  Parch      Ticket   Fare Cabin Embarked  \n",
       "886    male  27.0      0      0      211536  13.00   NaN        S  \n",
       "887  female  19.0      0      0      112053  30.00   B42        S  \n",
       "888  female   NaN      1      2  W./C. 6607  23.45   NaN        S  \n",
       "889    male  26.0      0      0      111369  30.00  C148        C  \n",
       "890    male  32.0      0      0      370376   7.75   NaN        Q  "
      ]
     },
     "execution_count": 131,
     "metadata": {},
     "output_type": "execute_result"
    }
   ],
   "source": [
    "train.tail()"
   ]
  },
  {
   "cell_type": "code",
   "execution_count": 132,
   "id": "3119edda",
   "metadata": {},
   "outputs": [
    {
     "data": {
      "text/html": [
       "<div>\n",
       "<style scoped>\n",
       "    .dataframe tbody tr th:only-of-type {\n",
       "        vertical-align: middle;\n",
       "    }\n",
       "\n",
       "    .dataframe tbody tr th {\n",
       "        vertical-align: top;\n",
       "    }\n",
       "\n",
       "    .dataframe thead th {\n",
       "        text-align: right;\n",
       "    }\n",
       "</style>\n",
       "<table border=\"1\" class=\"dataframe\">\n",
       "  <thead>\n",
       "    <tr style=\"text-align: right;\">\n",
       "      <th></th>\n",
       "      <th>PassengerId</th>\n",
       "      <th>Survived</th>\n",
       "      <th>Pclass</th>\n",
       "      <th>Age</th>\n",
       "      <th>SibSp</th>\n",
       "      <th>Parch</th>\n",
       "      <th>Fare</th>\n",
       "    </tr>\n",
       "  </thead>\n",
       "  <tbody>\n",
       "    <tr>\n",
       "      <th>count</th>\n",
       "      <td>891.000000</td>\n",
       "      <td>891.000000</td>\n",
       "      <td>891.000000</td>\n",
       "      <td>714.000000</td>\n",
       "      <td>891.000000</td>\n",
       "      <td>891.000000</td>\n",
       "      <td>891.000000</td>\n",
       "    </tr>\n",
       "    <tr>\n",
       "      <th>mean</th>\n",
       "      <td>446.000000</td>\n",
       "      <td>0.383838</td>\n",
       "      <td>2.308642</td>\n",
       "      <td>29.699118</td>\n",
       "      <td>0.523008</td>\n",
       "      <td>0.381594</td>\n",
       "      <td>32.204208</td>\n",
       "    </tr>\n",
       "    <tr>\n",
       "      <th>std</th>\n",
       "      <td>257.353842</td>\n",
       "      <td>0.486592</td>\n",
       "      <td>0.836071</td>\n",
       "      <td>14.526497</td>\n",
       "      <td>1.102743</td>\n",
       "      <td>0.806057</td>\n",
       "      <td>49.693429</td>\n",
       "    </tr>\n",
       "    <tr>\n",
       "      <th>min</th>\n",
       "      <td>1.000000</td>\n",
       "      <td>0.000000</td>\n",
       "      <td>1.000000</td>\n",
       "      <td>0.420000</td>\n",
       "      <td>0.000000</td>\n",
       "      <td>0.000000</td>\n",
       "      <td>0.000000</td>\n",
       "    </tr>\n",
       "    <tr>\n",
       "      <th>25%</th>\n",
       "      <td>223.500000</td>\n",
       "      <td>0.000000</td>\n",
       "      <td>2.000000</td>\n",
       "      <td>20.125000</td>\n",
       "      <td>0.000000</td>\n",
       "      <td>0.000000</td>\n",
       "      <td>7.910400</td>\n",
       "    </tr>\n",
       "    <tr>\n",
       "      <th>50%</th>\n",
       "      <td>446.000000</td>\n",
       "      <td>0.000000</td>\n",
       "      <td>3.000000</td>\n",
       "      <td>28.000000</td>\n",
       "      <td>0.000000</td>\n",
       "      <td>0.000000</td>\n",
       "      <td>14.454200</td>\n",
       "    </tr>\n",
       "    <tr>\n",
       "      <th>75%</th>\n",
       "      <td>668.500000</td>\n",
       "      <td>1.000000</td>\n",
       "      <td>3.000000</td>\n",
       "      <td>38.000000</td>\n",
       "      <td>1.000000</td>\n",
       "      <td>0.000000</td>\n",
       "      <td>31.000000</td>\n",
       "    </tr>\n",
       "    <tr>\n",
       "      <th>max</th>\n",
       "      <td>891.000000</td>\n",
       "      <td>1.000000</td>\n",
       "      <td>3.000000</td>\n",
       "      <td>80.000000</td>\n",
       "      <td>8.000000</td>\n",
       "      <td>6.000000</td>\n",
       "      <td>512.329200</td>\n",
       "    </tr>\n",
       "  </tbody>\n",
       "</table>\n",
       "</div>"
      ],
      "text/plain": [
       "       PassengerId    Survived      Pclass         Age       SibSp  \\\n",
       "count   891.000000  891.000000  891.000000  714.000000  891.000000   \n",
       "mean    446.000000    0.383838    2.308642   29.699118    0.523008   \n",
       "std     257.353842    0.486592    0.836071   14.526497    1.102743   \n",
       "min       1.000000    0.000000    1.000000    0.420000    0.000000   \n",
       "25%     223.500000    0.000000    2.000000   20.125000    0.000000   \n",
       "50%     446.000000    0.000000    3.000000   28.000000    0.000000   \n",
       "75%     668.500000    1.000000    3.000000   38.000000    1.000000   \n",
       "max     891.000000    1.000000    3.000000   80.000000    8.000000   \n",
       "\n",
       "            Parch        Fare  \n",
       "count  891.000000  891.000000  \n",
       "mean     0.381594   32.204208  \n",
       "std      0.806057   49.693429  \n",
       "min      0.000000    0.000000  \n",
       "25%      0.000000    7.910400  \n",
       "50%      0.000000   14.454200  \n",
       "75%      0.000000   31.000000  \n",
       "max      6.000000  512.329200  "
      ]
     },
     "execution_count": 132,
     "metadata": {},
     "output_type": "execute_result"
    }
   ],
   "source": [
    "train.describe()"
   ]
  },
  {
   "cell_type": "markdown",
   "id": "63b3b8d2",
   "metadata": {},
   "source": [
    "### T8. \n",
    "What is the median age of the training set? You can easily modify\n",
    "the age in the dataframe by"
   ]
  },
  {
   "cell_type": "code",
   "execution_count": null,
   "id": "31c7cc23",
   "metadata": {},
   "outputs": [],
   "source": [
    "train[\"Age\"] = train[\"Age\"].fillna(train[\"Age\"].median())\n",
    "train[\"Pclass\"] = train[\"Pclass\"].fillna(train[\"Pclass\"].mode())\n"
   ]
  },
  {
   "cell_type": "code",
   "execution_count": 146,
   "id": "e4590dd6",
   "metadata": {},
   "outputs": [],
   "source": [
    "test[\"Age\"] = test[\"Age\"].fillna(test[\"Age\"].median())\n",
    "test[\"Pclass\"] = test[\"Pclass\"].fillna(test[\"Pclass\"].mode())"
   ]
  },
  {
   "cell_type": "markdown",
   "id": "8d50c520",
   "metadata": {},
   "source": [
    "### T9. \n",
    "Some fields like ‘Embarked’ are categorical. They need to be converted\n",
    "to numbers first. We will represent S with 0, C with 1, and Q with 2. What is\n",
    "the mode of Embarked? Fill the missing values with the mode. You can set the\n",
    "value of Embarked easily with the following command."
   ]
  },
  {
   "cell_type": "markdown",
   "id": "777b75ea",
   "metadata": {},
   "source": []
  },
  {
   "cell_type": "code",
   "execution_count": 135,
   "id": "b2228b2c",
   "metadata": {},
   "outputs": [],
   "source": [
    "train.loc[train[\"Embarked\"] == \"S\", \"Embarked\"] = 0\n",
    "train.loc[train[\"Embarked\"] == \"C\", \"Embarked\"] = 1\n",
    "train.loc[train[\"Embarked\"] == \"Q\", \"Embarked\"] = 2\n",
    "\n",
    "train.loc[train[\"Sex\"] == \"male\", \"Sex\"] = 0\n",
    "train.loc[train[\"Sex\"] == \"female\", \"Sex\"] = 1"
   ]
  },
  {
   "cell_type": "code",
   "execution_count": 147,
   "id": "b90f5f59",
   "metadata": {},
   "outputs": [],
   "source": [
    "test.loc[test[\"Embarked\"] == \"S\", \"Embarked\"] = 0\n",
    "test.loc[test[\"Embarked\"] == \"C\", \"Embarked\"] = 1\n",
    "test.loc[test[\"Embarked\"] == \"Q\", \"Embarked\"] = 2\n",
    "\n",
    "test.loc[test[\"Sex\"] == \"male\", \"Sex\"] = 0\n",
    "test.loc[test[\"Sex\"] == \"female\", \"Sex\"] = 1"
   ]
  },
  {
   "cell_type": "markdown",
   "id": "ba55e31b",
   "metadata": {},
   "source": [
    "### T10. \n",
    "Write a logistic regression classifier using gradient descent as learned\n",
    "in class. Use PClass, Sex, Age, and Embarked as input features. You can\n",
    "extract the features from Pandas to Numpy by\n"
   ]
  },
  {
   "cell_type": "code",
   "execution_count": 149,
   "id": "bb42fd7f",
   "metadata": {},
   "outputs": [],
   "source": [
    "data = np.array(train[[\"Pclass\",\"Sex\",\"Age\",\"Embarked\"]].values, dtype = float)\n",
    "test_data = np.array(test[[\"Pclass\",\"Sex\",\"Age\",\"Embarked\"]].values , dtype = float)"
   ]
  },
  {
   "cell_type": "code",
   "execution_count": null,
   "id": "34a70f77",
   "metadata": {},
   "outputs": [],
   "source": [
    "import numpy as np\n",
    "\n",
    "class LogisticRegression:\n",
    "\n",
    "    def __init__(self, learning_rate: float = 0.01):\n",
    "        \n",
    "        self.learning_rate = learning_rate\n",
    "\n",
    "        self.weights = None  # Stores the learned feature coefficients\n",
    "        self.bias = None     # Stores the learned intercept term\n",
    "\n",
    "    def _sigmoid(self, z: np.ndarray) -> np.ndarray:\n",
    "\n",
    "        return 1 / (1 + np.exp(-z))\n",
    "\n",
    "    def fit(self, X: np.ndarray, y: np.ndarray):\n",
    "\n",
    "        n_samples, n_features = X.shape\n",
    "\n",
    "        # Initialize weights and bias to random\n",
    "        # Weights correspond to the number of features\n",
    "        self.weights = np.random.rand(n_features)\n",
    "        # Bias is a single scalar value\n",
    "        self.bias = np.random.rand(1)\n",
    "\n",
    "        # Gradient Descent loop for optimization\n",
    "        for _ in range(self.n_iterations):\n",
    "\n",
    "            linear_model_output = np.dot(X, self.weights) + self.bias\n",
    "            \n",
    "            predicted_probabilities = self._sigmoid(linear_model_output)\n",
    "            \n",
    "            d_weights = (1 / n_samples) * np.dot(X.T, (predicted_probabilities - y))\n",
    "            d_bias = (1 / n_samples) * np.sum(predicted_probabilities - y)\n",
    "\n",
    "            self.weights -= self.learning_rate * d_weights\n",
    "            self.bias -= self.learning_rate * d_bias\n",
    "\n",
    "            \n",
    "\n",
    "    def predict(self, X: np.ndarray, threshold: float = 0.5) -> np.ndarray:\n",
    "\n",
    "        if not 0 <= threshold <= 1:\n",
    "            raise ValueError(\"Threshold must be between 0 and 1.\")\n",
    "\n",
    "        probabilities = self.predict_proba(X)\n",
    "        predictions = (probabilities >= threshold).astype(int)\n",
    "        \n",
    "        return predictions"
   ]
  },
  {
   "cell_type": "code",
   "execution_count": 203,
   "id": "64911be4",
   "metadata": {},
   "outputs": [],
   "source": [
    "model = LogisticRegression()"
   ]
  },
  {
   "cell_type": "code",
   "execution_count": 204,
   "id": "b2e724d6",
   "metadata": {},
   "outputs": [],
   "source": [
    "model.fit(data , np.array(train['Survived'] , dtype = float))"
   ]
  },
  {
   "cell_type": "code",
   "execution_count": null,
   "id": "ffa4bee2",
   "metadata": {},
   "outputs": [],
   "source": []
  }
 ],
 "metadata": {
  "kernelspec": {
   "display_name": "Python 3 (ipykernel)",
   "language": "python",
   "name": "python3"
  }
 },
 "nbformat": 4,
 "nbformat_minor": 5
}
